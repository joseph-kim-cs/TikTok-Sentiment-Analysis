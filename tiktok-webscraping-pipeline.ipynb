{
 "cells": [
  {
   "cell_type": "code",
   "execution_count": 3,
   "metadata": {},
   "outputs": [],
   "source": [
    "import selenium\n",
    "from selenium import webdriver\n",
    "from selenium.webdriver.common.by import By\n",
    "from selenium.webdriver.common.service import Service\n",
    "from selenium.webdriver.common.keys import Keys\n",
    "\n",
    "from bs4 import BeautifulSoup\n",
    "import time\n",
    "import pandas as pd\n",
    "\n",
    "import sqlite3"
   ]
  },
  {
   "cell_type": "code",
   "execution_count": 4,
   "metadata": {},
   "outputs": [],
   "source": [
    "def set_up_driver():\n",
    "    service = webdriver.ChromeService()\n",
    "    options = webdriver.ChromeOptions()\n",
    "    options.add_argument(\"user-agent=Mozilla/5.0 (Windows NT 10.0; Win64; x64) AppleWebKit/537.36 (KHTML, like Gecko) Chrome/91.0.4472.124 Safari/537.36\")\n",
    "\n",
    "    options.add_argument(\"--headless\")  # run in headless mode\n",
    "    \n",
    "    driver = webdriver.Chrome(service=service, options=options)\n",
    "    return driver"
   ]
  },
  {
   "cell_type": "code",
   "execution_count": 6,
   "metadata": {},
   "outputs": [
    {
     "name": "stdout",
     "output_type": "stream",
     "text": [
      "Found 1 video elements.\n"
     ]
    },
    {
     "ename": "AttributeError",
     "evalue": "'NoneType' object has no attribute 'get_text'",
     "output_type": "error",
     "traceback": [
      "\u001b[1;31m---------------------------------------------------------------------------\u001b[0m",
      "\u001b[1;31mAttributeError\u001b[0m                            Traceback (most recent call last)",
      "Cell \u001b[1;32mIn[6], line 14\u001b[0m\n\u001b[0;32m     11\u001b[0m \u001b[38;5;28mprint\u001b[39m(\u001b[38;5;124mf\u001b[39m\u001b[38;5;124m\"\u001b[39m\u001b[38;5;124mFound \u001b[39m\u001b[38;5;132;01m{\u001b[39;00m\u001b[38;5;28mlen\u001b[39m(videos)\u001b[38;5;132;01m}\u001b[39;00m\u001b[38;5;124m video elements.\u001b[39m\u001b[38;5;124m\"\u001b[39m)\n\u001b[0;32m     13\u001b[0m \u001b[38;5;28;01mfor\u001b[39;00m idx, video \u001b[38;5;129;01min\u001b[39;00m \u001b[38;5;28menumerate\u001b[39m(videos): \n\u001b[1;32m---> 14\u001b[0m     title \u001b[38;5;241m=\u001b[39m \u001b[43mvideo\u001b[49m\u001b[38;5;241;43m.\u001b[39;49m\u001b[43mfind\u001b[49m\u001b[43m(\u001b[49m\u001b[38;5;124;43m'\u001b[39;49m\u001b[38;5;124;43mspan\u001b[39;49m\u001b[38;5;124;43m'\u001b[39;49m\u001b[43m,\u001b[49m\u001b[43m \u001b[49m\u001b[43m{\u001b[49m\u001b[38;5;124;43m'\u001b[39;49m\u001b[38;5;124;43mdata-e2e\u001b[39;49m\u001b[38;5;124;43m'\u001b[39;49m\u001b[43m \u001b[49m\u001b[43m:\u001b[49m\u001b[43m \u001b[49m\u001b[38;5;124;43m'\u001b[39;49m\u001b[38;5;124;43mnew-desc-span\u001b[39;49m\u001b[38;5;124;43m'\u001b[39;49m\u001b[43m}\u001b[49m\u001b[43m)\u001b[49m\u001b[38;5;241;43m.\u001b[39;49m\u001b[43mget_text\u001b[49m()\n\u001b[0;32m     15\u001b[0m     likes \u001b[38;5;241m=\u001b[39m video\u001b[38;5;241m.\u001b[39mfind(\u001b[38;5;124m'\u001b[39m\u001b[38;5;124mstrong\u001b[39m\u001b[38;5;124m'\u001b[39m, {\u001b[38;5;124m'\u001b[39m\u001b[38;5;124mdata-e2e\u001b[39m\u001b[38;5;124m'\u001b[39m : \u001b[38;5;124m'\u001b[39m\u001b[38;5;124mlike-count\u001b[39m\u001b[38;5;124m'\u001b[39m})\u001b[38;5;241m.\u001b[39mget_text()\n\u001b[0;32m     16\u001b[0m     \u001b[38;5;28mprint\u001b[39m(title, likes)\n",
      "\u001b[1;31mAttributeError\u001b[0m: 'NoneType' object has no attribute 'get_text'"
     ]
    }
   ],
   "source": [
    "driver = set_up_driver()\n",
    "url = \"https://www.tiktok.com/foryou?lang=en\"\n",
    "\n",
    "driver.get(url)\n",
    "time.sleep(5)  \n",
    "\n",
    "page_source = driver.page_source\n",
    "soup = BeautifulSoup(page_source, \"html.parser\")\n",
    "\n",
    "videos = soup.find_all(\"div\", class_=\"css-1iwji2z-DivContentFlexLayout eogpv4e1\")\n",
    "print(f\"Found {len(videos)} video elements.\")\n",
    "\n",
    "for idx, video in enumerate(videos): \n",
    "    title = video.find('span', {'data-e2e' : 'new-desc-span'}).get_text()\n",
    "    likes = video.find('strong', {'data-e2e' : 'like-count'}).get_text()\n",
    "    print(title, likes)\n",
    "\n",
    "driver.quit()\n",
    "\n",
    "# likes: soup.find_all('strong', {'data-e2e' : 'like-count'})\n",
    "# comments: soup.find_all('strong', {'data-e2e' : 'comment-count'})\n",
    "# shares: soup.find_all('strong', {'data-e2e' : 'share-count'})\n",
    "# favorites: soup.find_all('strong', {'data-e2e' : 'undefined-count'})\n",
    "\n",
    "# title: soup.find_all('span', {'data-e2e' : 'new-desc-span'})\n"
   ]
  },
  {
   "cell_type": "code",
   "execution_count": 29,
   "metadata": {},
   "outputs": [
    {
     "name": "stdout",
     "output_type": "stream",
     "text": [
      "[<span data-e2e=\"new-desc-span\" style=\"font-weight: 400;\">Asking college students what song they’re listening to in Hawaii!</span>, <span data-e2e=\"new-desc-span\" style=\"font-weight: 400;\">bro accepted the quest 😄 | credit </span>, <span data-e2e=\"new-desc-span\" style=\"font-weight: 400;\"> </span>, <span data-e2e=\"new-desc-span\" style=\"font-weight: 400;\"> </span>, <span data-e2e=\"new-desc-span\" style=\"font-weight: 400;\"> </span>, <span data-e2e=\"new-desc-span\" style=\"font-weight: 400;\"> </span>, <span data-e2e=\"new-desc-span\" style=\"font-weight: 400;\"> </span>, <span data-e2e=\"new-desc-span\" style=\"font-weight: 400;\"> </span>]\n"
     ]
    }
   ],
   "source": [
    "print(videos)"
   ]
  },
  {
   "cell_type": "code",
   "execution_count": 1,
   "metadata": {},
   "outputs": [],
   "source": [
    "def tiktok_scraper():\n",
    "    driver = set_up_driver()\n",
    "\n",
    "    url = \"https://www.tiktok.com/foryou\"\n",
    "\n",
    "    driver.get(url)\n",
    "    time.sleep(5)  \n",
    "\n",
    "    scroll_container = driver.find_element(By.CLASS_NAME, \"css-1xzh9re-DivColumnListContainer\") # articles are dynamically updated\n",
    "\n",
    "    # scrolling action\n",
    "    for _ in range(20): \n",
    "        driver.execute_script(\n",
    "            \"arguments[0].scrollTop = arguments[0].scrollHeight\", scroll_container\n",
    "        )\n",
    "\n",
    "        print(f\"Scroll iteration {_ + 1} completed.\")\n",
    "        time.sleep(2)\n",
    "\n",
    "        soup = BeautifulSoup(driver.page_source, \"html.parser\")\n",
    "        videos = soup.find_all(\"div\", class_=\"css-1iwji2z-DivContentFlexLayout eogpv4e1\")\n",
    "        print(f\"Found {len(videos)} videos so far.\")\n",
    "\n",
    "\n",
    "    # page parser\n",
    "    #soup = BeautifulSoup(driver.page_source, \"html.parser\")\n",
    "    # <div class=\"css-1iwji2z-DivContentFlexLayout eogpv4e1\">\n",
    "    \n",
    "\n",
    "    # <div class=\"css-1xzh9re-DivColumnListContainer ettyzn40\">\n",
    "\n",
    "    driver.quit()"
   ]
  },
  {
   "cell_type": "code",
   "execution_count": null,
   "metadata": {},
   "outputs": [
    {
     "ename": "NameError",
     "evalue": "name 'set_up_driver' is not defined",
     "output_type": "error",
     "traceback": [
      "\u001b[1;31m---------------------------------------------------------------------------\u001b[0m",
      "\u001b[1;31mNameError\u001b[0m                                 Traceback (most recent call last)",
      "Cell \u001b[1;32mIn[2], line 1\u001b[0m\n\u001b[1;32m----> 1\u001b[0m \u001b[43mtiktok_scraper\u001b[49m\u001b[43m(\u001b[49m\u001b[43m)\u001b[49m\n",
      "Cell \u001b[1;32mIn[1], line 2\u001b[0m, in \u001b[0;36mtiktok_scraper\u001b[1;34m()\u001b[0m\n\u001b[0;32m      1\u001b[0m \u001b[38;5;28;01mdef\u001b[39;00m \u001b[38;5;21mtiktok_scraper\u001b[39m():\n\u001b[1;32m----> 2\u001b[0m     driver \u001b[38;5;241m=\u001b[39m \u001b[43mset_up_driver\u001b[49m()\n\u001b[0;32m      4\u001b[0m     url \u001b[38;5;241m=\u001b[39m \u001b[38;5;124m\"\u001b[39m\u001b[38;5;124mhttps://www.tiktok.com/foryou\u001b[39m\u001b[38;5;124m\"\u001b[39m\n\u001b[0;32m      6\u001b[0m     driver\u001b[38;5;241m.\u001b[39mget(url)\n",
      "\u001b[1;31mNameError\u001b[0m: name 'set_up_driver' is not defined"
     ]
    }
   ],
   "source": [
    "tiktok_scraper()\n"
   ]
  },
  {
   "cell_type": "code",
   "execution_count": null,
   "metadata": {},
   "outputs": [],
   "source": []
  }
 ],
 "metadata": {
  "kernelspec": {
   "display_name": "base",
   "language": "python",
   "name": "python3"
  },
  "language_info": {
   "codemirror_mode": {
    "name": "ipython",
    "version": 3
   },
   "file_extension": ".py",
   "mimetype": "text/x-python",
   "name": "python",
   "nbconvert_exporter": "python",
   "pygments_lexer": "ipython3",
   "version": "3.9.18"
  }
 },
 "nbformat": 4,
 "nbformat_minor": 2
}

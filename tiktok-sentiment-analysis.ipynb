{
 "cells": [
  {
   "cell_type": "markdown",
   "metadata": {},
   "source": [
    "# TitTok Sentiment Analysis -- Joseph Kim, Dec 2024"
   ]
  },
  {
   "cell_type": "markdown",
   "metadata": {},
   "source": [
    "Import libraries"
   ]
  },
  {
   "cell_type": "code",
   "execution_count": 51,
   "metadata": {},
   "outputs": [],
   "source": [
    "import pandas as pd\n",
    "import numpy as np\n",
    "import seaborn as sns\n",
    "import matplotlib.pyplot as plt\n",
    "\n",
    "import wordcloud\n",
    "import warnings\n",
    "from sklearn.model_selection import train_test_split\n",
    "import string\n",
    "import re\n",
    "from textblob import TextBlob"
   ]
  },
  {
   "cell_type": "markdown",
   "metadata": {},
   "source": [
    "Data cleaning and preprocessing"
   ]
  },
  {
   "cell_type": "code",
   "execution_count": 52,
   "metadata": {},
   "outputs": [],
   "source": [
    "df = pd.read_csv('tiktok_data.csv') # Came from tiktok_webscraper.py"
   ]
  },
  {
   "cell_type": "code",
   "execution_count": 53,
   "metadata": {},
   "outputs": [
    {
     "data": {
      "text/html": [
       "<div>\n",
       "<style scoped>\n",
       "    .dataframe tbody tr th:only-of-type {\n",
       "        vertical-align: middle;\n",
       "    }\n",
       "\n",
       "    .dataframe tbody tr th {\n",
       "        vertical-align: top;\n",
       "    }\n",
       "\n",
       "    .dataframe thead th {\n",
       "        text-align: right;\n",
       "    }\n",
       "</style>\n",
       "<table border=\"1\" class=\"dataframe\">\n",
       "  <thead>\n",
       "    <tr style=\"text-align: right;\">\n",
       "      <th></th>\n",
       "      <th>Title</th>\n",
       "      <th>Likes</th>\n",
       "      <th>Comments</th>\n",
       "      <th>Shares</th>\n",
       "      <th>Favorites</th>\n",
       "    </tr>\n",
       "  </thead>\n",
       "  <tbody>\n",
       "    <tr>\n",
       "      <th>0</th>\n",
       "      <td>Georgie Cooper is always surprising.🤣🤣🤣</td>\n",
       "      <td>2M</td>\n",
       "      <td>2399</td>\n",
       "      <td>38.9K</td>\n",
       "      <td>143.6K</td>\n",
       "    </tr>\n",
       "    <tr>\n",
       "      <th>1</th>\n",
       "      <td>Physics</td>\n",
       "      <td>22.8K</td>\n",
       "      <td>96</td>\n",
       "      <td>315</td>\n",
       "      <td>1164</td>\n",
       "    </tr>\n",
       "    <tr>\n",
       "      <th>2</th>\n",
       "      <td>Man dumped via text for predicting election 💔🇺🇸🤣</td>\n",
       "      <td>1.8M</td>\n",
       "      <td>10.1K</td>\n",
       "      <td>128.3K</td>\n",
       "      <td>104.2K</td>\n",
       "    </tr>\n",
       "    <tr>\n",
       "      <th>3</th>\n",
       "      <td>Cops Get Destroyed For Unlawful Detainment! 1s...</td>\n",
       "      <td>85.4K</td>\n",
       "      <td>2973</td>\n",
       "      <td>915</td>\n",
       "      <td>6813</td>\n",
       "    </tr>\n",
       "    <tr>\n",
       "      <th>4</th>\n",
       "      <td>Po’ baby 🥲</td>\n",
       "      <td>680.9K</td>\n",
       "      <td>2515</td>\n",
       "      <td>10.6K</td>\n",
       "      <td>16.6K</td>\n",
       "    </tr>\n",
       "  </tbody>\n",
       "</table>\n",
       "</div>"
      ],
      "text/plain": [
       "                                               Title   Likes Comments  Shares  \\\n",
       "0            Georgie Cooper is always surprising.🤣🤣🤣      2M     2399   38.9K   \n",
       "1                                            Physics   22.8K       96     315   \n",
       "2   Man dumped via text for predicting election 💔🇺🇸🤣    1.8M    10.1K  128.3K   \n",
       "3  Cops Get Destroyed For Unlawful Detainment! 1s...   85.4K     2973     915   \n",
       "4                                         Po’ baby 🥲  680.9K     2515   10.6K   \n",
       "\n",
       "  Favorites  \n",
       "0    143.6K  \n",
       "1      1164  \n",
       "2    104.2K  \n",
       "3      6813  \n",
       "4     16.6K  "
      ]
     },
     "execution_count": 53,
     "metadata": {},
     "output_type": "execute_result"
    }
   ],
   "source": [
    "df.head()"
   ]
  },
  {
   "cell_type": "code",
   "execution_count": 54,
   "metadata": {},
   "outputs": [
    {
     "data": {
      "text/plain": [
       "Title        0\n",
       "Likes        0\n",
       "Comments     0\n",
       "Shares       0\n",
       "Favorites    0\n",
       "dtype: int64"
      ]
     },
     "execution_count": 54,
     "metadata": {},
     "output_type": "execute_result"
    }
   ],
   "source": [
    "missing_values = df.isnull().sum() # no missing values\n",
    "missing_values"
   ]
  },
  {
   "cell_type": "code",
   "execution_count": 55,
   "metadata": {},
   "outputs": [],
   "source": [
    "# brief function to remove the B's, M's and K's from values \n",
    "def convert_to_numeric(value):\n",
    "    if \"M\" in value:\n",
    "        value = float(value.strip(\"M\")) * 1_000_000\n",
    "    elif \"K\" in value:\n",
    "        value = float(value.strip(\"K\")) * 1_000\n",
    "    else:\n",
    "        value = float(value)\n",
    "    return value"
   ]
  },
  {
   "cell_type": "code",
   "execution_count": 56,
   "metadata": {},
   "outputs": [],
   "source": [
    "df['Likes'] = df['Likes'].apply(convert_to_numeric)\n",
    "df['Comments'] = df['Comments'].apply(convert_to_numeric)\n",
    "df['Shares'] = df['Shares'].apply(convert_to_numeric)\n",
    "df['Favorites'] = df['Favorites'].apply(convert_to_numeric) # should note that 'favorites' is actually the 'save' video feature"
   ]
  },
  {
   "cell_type": "code",
   "execution_count": 57,
   "metadata": {},
   "outputs": [
    {
     "data": {
      "text/html": [
       "<div>\n",
       "<style scoped>\n",
       "    .dataframe tbody tr th:only-of-type {\n",
       "        vertical-align: middle;\n",
       "    }\n",
       "\n",
       "    .dataframe tbody tr th {\n",
       "        vertical-align: top;\n",
       "    }\n",
       "\n",
       "    .dataframe thead th {\n",
       "        text-align: right;\n",
       "    }\n",
       "</style>\n",
       "<table border=\"1\" class=\"dataframe\">\n",
       "  <thead>\n",
       "    <tr style=\"text-align: right;\">\n",
       "      <th></th>\n",
       "      <th>Title</th>\n",
       "      <th>Likes</th>\n",
       "      <th>Comments</th>\n",
       "      <th>Shares</th>\n",
       "      <th>Favorites</th>\n",
       "    </tr>\n",
       "  </thead>\n",
       "  <tbody>\n",
       "    <tr>\n",
       "      <th>0</th>\n",
       "      <td>Georgie Cooper is always surprising.🤣🤣🤣</td>\n",
       "      <td>2000000.0</td>\n",
       "      <td>2399.0</td>\n",
       "      <td>38900.0</td>\n",
       "      <td>143600.0</td>\n",
       "    </tr>\n",
       "    <tr>\n",
       "      <th>1</th>\n",
       "      <td>Physics</td>\n",
       "      <td>22800.0</td>\n",
       "      <td>96.0</td>\n",
       "      <td>315.0</td>\n",
       "      <td>1164.0</td>\n",
       "    </tr>\n",
       "    <tr>\n",
       "      <th>2</th>\n",
       "      <td>Man dumped via text for predicting election 💔🇺🇸🤣</td>\n",
       "      <td>1800000.0</td>\n",
       "      <td>10100.0</td>\n",
       "      <td>128300.0</td>\n",
       "      <td>104200.0</td>\n",
       "    </tr>\n",
       "    <tr>\n",
       "      <th>3</th>\n",
       "      <td>Cops Get Destroyed For Unlawful Detainment! 1s...</td>\n",
       "      <td>85400.0</td>\n",
       "      <td>2973.0</td>\n",
       "      <td>915.0</td>\n",
       "      <td>6813.0</td>\n",
       "    </tr>\n",
       "    <tr>\n",
       "      <th>4</th>\n",
       "      <td>Po’ baby 🥲</td>\n",
       "      <td>680900.0</td>\n",
       "      <td>2515.0</td>\n",
       "      <td>10600.0</td>\n",
       "      <td>16600.0</td>\n",
       "    </tr>\n",
       "  </tbody>\n",
       "</table>\n",
       "</div>"
      ],
      "text/plain": [
       "                                               Title      Likes  Comments  \\\n",
       "0            Georgie Cooper is always surprising.🤣🤣🤣  2000000.0    2399.0   \n",
       "1                                            Physics    22800.0      96.0   \n",
       "2   Man dumped via text for predicting election 💔🇺🇸🤣  1800000.0   10100.0   \n",
       "3  Cops Get Destroyed For Unlawful Detainment! 1s...    85400.0    2973.0   \n",
       "4                                         Po’ baby 🥲   680900.0    2515.0   \n",
       "\n",
       "     Shares  Favorites  \n",
       "0   38900.0   143600.0  \n",
       "1     315.0     1164.0  \n",
       "2  128300.0   104200.0  \n",
       "3     915.0     6813.0  \n",
       "4   10600.0    16600.0  "
      ]
     },
     "execution_count": 57,
     "metadata": {},
     "output_type": "execute_result"
    }
   ],
   "source": [
    "df.head()"
   ]
  },
  {
   "cell_type": "markdown",
   "metadata": {},
   "source": [
    "### Creating Visualizations of Data: EDA"
   ]
  },
  {
   "cell_type": "code",
   "execution_count": 58,
   "metadata": {},
   "outputs": [
    {
     "data": {
      "image/png": "[encoded data removed]",
      "text/plain": [
       "<Figure size 1000x1000 with 2 Axes>"
      ]
     },
     "metadata": {},
     "output_type": "display_data"
    }
   ],
   "source": [
    "corr_matrix = df.corr(numeric_only=True)\n",
    "fig, ax = plt.subplots(figsize=(10, 10))\n",
    "sns.heatmap(corr_matrix, annot=True, cmap='coolwarm', ax=ax)\n",
    "ax.set_title('Correlation Plot')\n",
    "plt.show()"
   ]
  },
  {
   "cell_type": "code",
   "execution_count": 59,
   "metadata": {},
   "outputs": [
    {
     "data": {
      "image/png": "[encoded data removed]",
      "text/plain": [
       "<Figure size 1000x500 with 1 Axes>"
      ]
     },
     "metadata": {},
     "output_type": "display_data"
    }
   ],
   "source": [
    "# plotting relationship between number of fans and number of total likes -- should be pretty intuitive, the more likes the better the engagement\n",
    "plt.figure(figsize = (10,5))\n",
    "sns.scatterplot(x = 'Likes', y = 'Comments', data = df, alpha = 0.5)\n",
    "plt.xlabel('Number of Likes')\n",
    "plt.ylabel('Number of Comments')\n",
    "plt.title('Relationship between Number of Likes and Comments')\n",
    "plt.show()"
   ]
  },
  {
   "cell_type": "markdown",
   "metadata": {},
   "source": [
    "### Sentiment Analysis"
   ]
  },
  {
   "cell_type": "code",
   "execution_count": 60,
   "metadata": {},
   "outputs": [
    {
     "name": "stderr",
     "output_type": "stream",
     "text": [
      "[nltk_data] Downloading package stopwords to\n",
      "[nltk_data]     C:\\Users\\josep\\AppData\\Roaming\\nltk_data...\n",
      "[nltk_data]   Package stopwords is already up-to-date!\n",
      "[nltk_data] Downloading package punkt to\n",
      "[nltk_data]     C:\\Users\\josep\\AppData\\Roaming\\nltk_data...\n",
      "[nltk_data]   Package punkt is already up-to-date!\n"
     ]
    },
    {
     "data": {
      "text/plain": [
       "True"
      ]
     },
     "execution_count": 60,
     "metadata": {},
     "output_type": "execute_result"
    }
   ],
   "source": [
    "import nltk\n",
    "from nltk.corpus import stopwords\n",
    "nltk.download('stopwords')\n",
    "\n",
    "from nltk.tokenize import word_tokenize, PunktSentenceTokenizer\n",
    "nltk.download('punkt')"
   ]
  },
  {
   "cell_type": "code",
   "execution_count": 61,
   "metadata": {},
   "outputs": [],
   "source": [
    "def custom_word_tokenize(text): # no idea why but word_tokenize is not working -- make a custom function that does almost the same thing\n",
    "    tokenizer = PunktSentenceTokenizer()\n",
    "    sentences = tokenizer.tokenize(text)\n",
    "    words = []\n",
    "    for sentence in sentences:\n",
    "        words.extend(sentence.split())\n",
    "    return words"
   ]
  },
  {
   "cell_type": "code",
   "execution_count": 62,
   "metadata": {},
   "outputs": [],
   "source": [
    "# preprocess the title texts\n",
    "\n",
    "def preprocess_text(text):\n",
    "    if isinstance(text, str):\n",
    "        # convert all to lowercase\n",
    "        text = text.lower()\n",
    "        \n",
    "        # remove punctuation and all special characters\n",
    "        text = re.sub('[%s]' % re.escape(string.punctuation), '', text)\n",
    "        text = re.sub('\\W', ' ', text)\n",
    "        text = re.sub('\\s+', ' ', text).strip()\n",
    "\n",
    "        # tokenizing the text -- segmenting text into vectors into numerical data structures (in this case, based on words)\n",
    "        words = custom_word_tokenize(text)\n",
    "\n",
    "        stop_words = set(stopwords.words('english'))\n",
    "        words = [word for word in words if word not in stop_words]\n",
    "\n",
    "        return ' '.join(words)\n",
    "    \n",
    "    else:\n",
    "        return ''"
   ]
  },
  {
   "cell_type": "code",
   "execution_count": 63,
   "metadata": {},
   "outputs": [
    {
     "name": "stdout",
     "output_type": "stream",
     "text": [
      "test sentence preprocessing\n"
     ]
    }
   ],
   "source": [
    "sample_text = \"This is a test sentence for preprocessing!\"\n",
    "print(preprocess_text(sample_text))"
   ]
  },
  {
   "cell_type": "code",
   "execution_count": 64,
   "metadata": {},
   "outputs": [
    {
     "data": {
      "text/html": [
       "<div>\n",
       "<style scoped>\n",
       "    .dataframe tbody tr th:only-of-type {\n",
       "        vertical-align: middle;\n",
       "    }\n",
       "\n",
       "    .dataframe tbody tr th {\n",
       "        vertical-align: top;\n",
       "    }\n",
       "\n",
       "    .dataframe thead th {\n",
       "        text-align: right;\n",
       "    }\n",
       "</style>\n",
       "<table border=\"1\" class=\"dataframe\">\n",
       "  <thead>\n",
       "    <tr style=\"text-align: right;\">\n",
       "      <th></th>\n",
       "      <th>Title</th>\n",
       "      <th>Likes</th>\n",
       "      <th>Comments</th>\n",
       "      <th>Shares</th>\n",
       "      <th>Favorites</th>\n",
       "      <th>Cleaned_Title</th>\n",
       "    </tr>\n",
       "  </thead>\n",
       "  <tbody>\n",
       "    <tr>\n",
       "      <th>0</th>\n",
       "      <td>Georgie Cooper is always surprising.🤣🤣🤣</td>\n",
       "      <td>2000000.0</td>\n",
       "      <td>2399.0</td>\n",
       "      <td>38900.0</td>\n",
       "      <td>143600.0</td>\n",
       "      <td>georgie cooper always surprising</td>\n",
       "    </tr>\n",
       "    <tr>\n",
       "      <th>1</th>\n",
       "      <td>Physics</td>\n",
       "      <td>22800.0</td>\n",
       "      <td>96.0</td>\n",
       "      <td>315.0</td>\n",
       "      <td>1164.0</td>\n",
       "      <td>physics</td>\n",
       "    </tr>\n",
       "    <tr>\n",
       "      <th>2</th>\n",
       "      <td>Man dumped via text for predicting election 💔🇺🇸🤣</td>\n",
       "      <td>1800000.0</td>\n",
       "      <td>10100.0</td>\n",
       "      <td>128300.0</td>\n",
       "      <td>104200.0</td>\n",
       "      <td>man dumped via text predicting election</td>\n",
       "    </tr>\n",
       "    <tr>\n",
       "      <th>3</th>\n",
       "      <td>Cops Get Destroyed For Unlawful Detainment! 1s...</td>\n",
       "      <td>85400.0</td>\n",
       "      <td>2973.0</td>\n",
       "      <td>915.0</td>\n",
       "      <td>6813.0</td>\n",
       "      <td>cops get destroyed unlawful detainment 1st ame...</td>\n",
       "    </tr>\n",
       "    <tr>\n",
       "      <th>4</th>\n",
       "      <td>Po’ baby 🥲</td>\n",
       "      <td>680900.0</td>\n",
       "      <td>2515.0</td>\n",
       "      <td>10600.0</td>\n",
       "      <td>16600.0</td>\n",
       "      <td>po baby</td>\n",
       "    </tr>\n",
       "  </tbody>\n",
       "</table>\n",
       "</div>"
      ],
      "text/plain": [
       "                                               Title      Likes  Comments  \\\n",
       "0            Georgie Cooper is always surprising.🤣🤣🤣  2000000.0    2399.0   \n",
       "1                                            Physics    22800.0      96.0   \n",
       "2   Man dumped via text for predicting election 💔🇺🇸🤣  1800000.0   10100.0   \n",
       "3  Cops Get Destroyed For Unlawful Detainment! 1s...    85400.0    2973.0   \n",
       "4                                         Po’ baby 🥲   680900.0    2515.0   \n",
       "\n",
       "     Shares  Favorites                                      Cleaned_Title  \n",
       "0   38900.0   143600.0                   georgie cooper always surprising  \n",
       "1     315.0     1164.0                                            physics  \n",
       "2  128300.0   104200.0            man dumped via text predicting election  \n",
       "3     915.0     6813.0  cops get destroyed unlawful detainment 1st ame...  \n",
       "4   10600.0    16600.0                                            po baby  "
      ]
     },
     "execution_count": 64,
     "metadata": {},
     "output_type": "execute_result"
    }
   ],
   "source": [
    "df['Cleaned_Title'] = df['Title'].apply(preprocess_text)\n",
    "df.head()"
   ]
  },
  {
   "cell_type": "markdown",
   "metadata": {},
   "source": [
    "Get Sentiment Polarity with textblob"
   ]
  },
  {
   "cell_type": "code",
   "execution_count": 65,
   "metadata": {},
   "outputs": [],
   "source": [
    "# create sentiment classification function using TextBlob\n",
    "def sentiment_class(text): \n",
    "    blob = TextBlob(text)\n",
    "    sentiment = blob.sentiment.polarity\n",
    "    \n",
    "    if sentiment < 0: \n",
    "        return 0 # negative sentiment detected\n",
    "    else: \n",
    "        return 1 # positive sentiment"
   ]
  },
  {
   "cell_type": "code",
   "execution_count": 66,
   "metadata": {},
   "outputs": [
    {
     "name": "stdout",
     "output_type": "stream",
     "text": [
      "                                         Cleaned_Title  sentiment\n",
      "0                     georgie cooper always surprising          1\n",
      "1                                              physics          1\n",
      "2              man dumped via text predicting election          1\n",
      "3    cops get destroyed unlawful detainment 1st ame...          1\n",
      "4                                              po baby          1\n",
      "..                                                 ...        ...\n",
      "119                               shh dont tell anyone          1\n",
      "120                                       3 nights row          1\n",
      "121                                    sneaky students          1\n",
      "122                   would swapped bodies best friend          1\n",
      "123                                                             1\n",
      "\n",
      "[124 rows x 2 columns]\n"
     ]
    }
   ],
   "source": [
    "df['sentiment'] = df['Cleaned_Title'].apply(sentiment_class)\n",
    "print(df.loc[:, ['Cleaned_Title', 'sentiment']])"
   ]
  },
  {
   "cell_type": "code",
   "execution_count": 67,
   "metadata": {},
   "outputs": [
    {
     "name": "stdout",
     "output_type": "stream",
     "text": [
      "                                         Cleaned_Title  sentiment\n",
      "5                                insane transformation          0\n",
      "26                 350 razor blades forged sharp knife          0\n",
      "29          anyone guess dangerous place united states          0\n",
      "30                             casually walking tv set          0\n",
      "31                    random restocks kitchen restocks          0\n",
      "44                           kai stream insane tonight          0\n",
      "50                 350 razor blades forged sharp knife          0\n",
      "66                               seriously please stop          0\n",
      "67                                yall think worst one          0\n",
      "71                                          thats mean          0\n",
      "97   notice barron trumps bodyguard must strictly o...          0\n",
      "111                      scary sightings caught camera          0\n",
      "114                                       cutting hair          0\n",
      "115                                      think painful          0\n",
      "116  wonder kai trump never complains tragic life e...          0\n"
     ]
    }
   ],
   "source": [
    "print(df.loc[df['sentiment'] == 0, ['Cleaned_Title', 'sentiment']])"
   ]
  },
  {
   "cell_type": "code",
   "execution_count": 68,
   "metadata": {},
   "outputs": [
    {
     "name": "stdout",
     "output_type": "stream",
     "text": [
      "                   Likes     Comments        Shares     Favorites\n",
      "sentiment                                                        \n",
      "0          268097.066667  1627.533333  22157.000000  22477.133333\n",
      "1          634872.220183  5217.440367  70154.266055  39719.495413\n"
     ]
    }
   ],
   "source": [
    "sentiment_metrics = df.groupby('sentiment')[['Likes', 'Comments', 'Shares', 'Favorites']].mean()\n",
    "print(sentiment_metrics) # 370k more likes on average"
   ]
  },
  {
   "cell_type": "markdown",
   "metadata": {},
   "source": [
    "### Sentiment Statistical Analysis"
   ]
  },
  {
   "cell_type": "markdown",
   "metadata": {},
   "source": [
    "Hypothesis: TikTok videos with a positive title sentiment receive more Likes than those with a negative or neutral sentiment."
   ]
  },
  {
   "cell_type": "code",
   "execution_count": 69,
   "metadata": {},
   "outputs": [
    {
     "data": {
      "image/png": "[encoded data removed]",
      "text/plain": [
       "<Figure size 1000x500 with 1 Axes>"
      ]
     },
     "metadata": {},
     "output_type": "display_data"
    }
   ],
   "source": [
    "# plot the results with a boxplot\n",
    "plt.figure(figsize = (10,5))\n",
    "sns.boxplot(x = 'sentiment', y = 'Likes', data = df)\n",
    "plt.xlabel('Sentiment Status')\n",
    "plt.ylabel('Number of Likes')\n",
    "plt.title('Distribution of Likes for Positive and Neutral/Negative Title Sentiment')\n",
    "#plt.yscale('log')\n",
    "plt.show() \n",
    "# generally speaking, there are more outliers in the non-verified status - this checks out"
   ]
  },
  {
   "cell_type": "code",
   "execution_count": 70,
   "metadata": {},
   "outputs": [],
   "source": [
    "from scipy.stats import ttest_ind"
   ]
  },
  {
   "cell_type": "code",
   "execution_count": 71,
   "metadata": {},
   "outputs": [
    {
     "data": {
      "text/plain": [
       "(2.4190932391530366, 0.01731612818922585)"
      ]
     },
     "execution_count": 71,
     "metadata": {},
     "output_type": "execute_result"
    }
   ],
   "source": [
    "positive_likes = df[df['sentiment'] == 1]['Likes']\n",
    "negative_likes = df[df['sentiment'] == 0]['Likes']\n",
    "t_statistic, p_value = ttest_ind(positive_likes, negative_likes, equal_var = False)\n",
    "t_statistic, p_value # 0.017 p-value is significantly low -- positive sentiment captions get more likes"
   ]
  },
  {
   "cell_type": "markdown",
   "metadata": {},
   "source": [
    "The t-statistic is approximately 2.42 - over 2 standard deviations difference in means - and the p-value is approximately 0.017.\n",
    "\n",
    "A smaller p-value indicates stronger evidence against the null hypothesis. In this case, the p-value being small (0.017), indicates strong evidence that the difference in means is not due to random chance.\n",
    "\n",
    "The results of the t-test suggest that there is a statistically significant difference in the number of views between positive and negative/neutral sentiment videos, with positive sentiment videos receiving more views on average."
   ]
  }
 ],
 "metadata": {
  "kernelspec": {
   "display_name": "base",
   "language": "python",
   "name": "python3"
  },
  "language_info": {
   "codemirror_mode": {
    "name": "ipython",
    "version": 3
   },
   "file_extension": ".py",
   "mimetype": "text/x-python",
   "name": "python",
   "nbconvert_exporter": "python",
   "pygments_lexer": "ipython3",
   "version": "3.9.18"
  }
 },
 "nbformat": 4,
 "nbformat_minor": 2
}
